{
 "cells": [
  {
   "cell_type": "markdown",
   "metadata": {},
   "source": [
    "## 리그 오브 레전드 리그별 경기 결과 크롤링\n",
    "  \n",
    "https://qwer.gg/ko/leagues/{league}/{year}/{season}\n",
    "\n",
    "+ 리그 : LCK(한국), LPL(중국), LCS(북미), LES(유럽)\n",
    "+ 연도 : 2015 ~\n",
    "+ 시즌 : 스프링, 서머"
   ]
  },
  {
   "cell_type": "code",
   "execution_count": 1,
   "metadata": {},
   "outputs": [],
   "source": [
    "#-*- coding: utf-8 -*-\n",
    "from bs4 import BeautifulSoup\n",
    "from selenium import webdriver\n",
    "from selenium.webdriver.common.keys import Keys\n",
    "from selenium.webdriver.common.by import By\n",
    "from selenium.webdriver.support.ui import WebDriverWait\n",
    "from selenium.webdriver.support import expected_conditions as EC\n",
    "from selenium.webdriver import ActionChains\n",
    "\n",
    "import time\n",
    "import os\n",
    "\n",
    "import warnings\n",
    "warnings.filterwarnings(\"ignore\")"
   ]
  },
  {
   "cell_type": "code",
   "execution_count": 3,
   "metadata": {},
   "outputs": [],
   "source": [
    "options = webdriver.ChromeOptions()\n",
    "#options.headless = True\n",
    "options.add_argument('window_size=1920x1080')\n",
    "options.add_argument('user-agent=Mozilla/5.0 (Windows NT 10.0; Win64; x64) AppleWebKit/537.36 (KHTML, like Gecko) Chrome/103.0.0.0 Safari/537.36')\n",
    "\n",
    "browser = webdriver.Chrome(options=options)\n",
    "\n",
    "#qwer 사이트에서 LCK 2015년 서머시즌 페이지 열기\n",
    "league = 'LCK'\n",
    "year = '2016'\n",
    "season = 'Summer'\n",
    "url = f'https://qwer.gg/ko/leagues/{league}/{year}/{season}'\n",
    "\n",
    "browser.get(url)"
   ]
  },
  {
   "cell_type": "code",
   "execution_count": null,
   "metadata": {},
   "outputs": [
    {
     "name": "stdout",
     "output_type": "stream",
     "text": [
      "Regular season\n"
     ]
    }
   ],
   "source": [
    "#시즌 내 경기타입 선택\n",
    "button = browser.find_element(By.ID, 'headlessui-menu-button-16')\n",
    "button.click()\n",
    "\n",
    "season_types = browser.find_element(By.ID, 'headlessui-menu-items-17').find_elements(By.TAG_NAME, 'div')\n",
    "print(season_types[1].get_attribute('innerText'))\n",
    "\n",
    "season_types[0].click()"
   ]
  },
  {
   "cell_type": "code",
   "execution_count": 4,
   "metadata": {},
   "outputs": [],
   "source": [
    "#경기결과 클릭\n",
    "button = browser.find_element(By.ID, 'headlessui-tabs-tab-10')\n",
    "button.click()   \n",
    "time.sleep(3)"
   ]
  },
  {
   "cell_type": "code",
   "execution_count": null,
   "metadata": {},
   "outputs": [],
   "source": [
    "#각 매치 결과 페이지 href 크롤링\n",
    "buttons = browser.find_elements(By.TAG_NAME, 'button')\n",
    "\n",
    "for i in reversed(buttons[16:]):   #매치 별 detail 버튼 누르기\n",
    "    i.click()\n",
    "    \n",
    "a_tag = browser.find_elements(By.TAG_NAME, 'a')\n",
    "match_link = [i.get_attribute('href') for i in a_tag][17:-5]\n",
    "\n",
    "#txt 파일에 저장\n",
    "filename = f'{league}_{year}_{season}_match_links.txt'\n",
    "with open(filename, 'w') as file:\n",
    "    file.write('\\n'.join(match_link))"
   ]
  },
  {
   "cell_type": "code",
   "execution_count": null,
   "metadata": {},
   "outputs": [],
   "source": [
    "#위 과정을 함수로 만들기\n",
    "def get_match_url(league, year, season):\n",
    "    for type_idx in range(4):\n",
    "        options = webdriver.ChromeOptions()\n",
    "        options.headless = True   #브라우저 창 띄우지 않고 백그라운드에서 진행\n",
    "        options.add_argument('window_size=1920x1080')\n",
    "        options.add_argument('user-agent=Mozilla/5.0 (Windows NT 10.0; Win64; x64) AppleWebKit/537.36 (KHTML, like Gecko) Chrome/103.0.0.0 Safari/537.36')\n",
    "        options.add_experimental_option(\"detach\", True)\n",
    "        browser = webdriver.Chrome(options=options)\n",
    "\n",
    "        url = f'https://qwer.gg/ko/leagues/{league}/{year}/{season}'\n",
    "        \n",
    "        try:\n",
    "            browser.get(url)\n",
    "            time.sleep(3)\n",
    "            \n",
    "            button = browser.find_element(By.ID, 'headlessui-menu-button-16')  #상세시즌 사이드바\n",
    "            button.click()\n",
    "            \n",
    "            season_types = browser.find_element(By.ID, 'headlessui-menu-items-17').find_elements(By.TAG_NAME, 'div')   #상세시즌 내역\n",
    "                    \n",
    "            season_type = season_types[type_idx]     \n",
    "            season_name = season_type.get_attribute('innerText')  #txt 파일 저장 시 이름에 사용\n",
    "                        \n",
    "            season_type.click()\n",
    "                \n",
    "            button = browser.find_element(By.ID, 'headlessui-tabs-tab-10')\n",
    "            button.click()   \n",
    "            time.sleep(1)\n",
    "                    \n",
    "            buttons = browser.find_elements(By.TAG_NAME, 'button')\n",
    "\n",
    "            for i in reversed(buttons[16:]):   #매치 별 detail 버튼 누르기\n",
    "                i.click()\n",
    "            time.sleep(1)\n",
    "                    \n",
    "            a_tag = browser.find_elements(By.TAG_NAME, 'a')\n",
    "            match_link = [i.get_attribute('href') for i in a_tag][17:-5]\n",
    "\n",
    "            #txt 파일에 저장\n",
    "            filename = f'{league}_{year}_{season}_{season_name}_match_links.txt'\n",
    "            with open(filename, 'w') as file:\n",
    "                file.write('\\n'.join(match_link))\n",
    "            time.sleep(1)\n",
    "            browser.quit()\n",
    "        \n",
    "        except:\n",
    "            browser.quit()    "
   ]
  },
  {
   "cell_type": "code",
   "execution_count": null,
   "metadata": {},
   "outputs": [],
   "source": [
    "#약 80분 소요\n",
    "leagues = ['LCK', 'LPL', 'LCS', 'LEC']\n",
    "years = [str(i) for i in range(2015, 2023)]\n",
    "seasons = ['Spring', 'Summer']\n",
    "\n",
    "for league in leagues:\n",
    "    for year in years:\n",
    "        for season in seasons:\n",
    "            get_match_url(league, year, season)"
   ]
  },
  {
   "cell_type": "code",
   "execution_count": null,
   "metadata": {},
   "outputs": [
    {
     "data": {
      "text/plain": [
       "116"
      ]
     },
     "execution_count": 20,
     "metadata": {},
     "output_type": "execute_result"
    }
   ],
   "source": [
    "#txt 파일 내용 불러오는 함수\n",
    "def get_txt_url(path):\n",
    "    txt_file_list = [file for file in os.listdir(path) if file.endswith('txt')]\n",
    "    return(txt_file_list)\n",
    "    \n",
    "txt_list = get_txt_url('./')    #현재 디렉토리 내 txt 파일들(116개)\n",
    "len(txt_list)  "
   ]
  },
  {
   "cell_type": "code",
   "execution_count": 5,
   "metadata": {},
   "outputs": [
    {
     "data": {
      "text/plain": [
       "['https://qwer.gg/ko/matches/16912/mvp-vs-btc-2018-09-22',\n",
       " 'https://qwer.gg/ko/matches/16913/bbq-vs-mvp-2018-09-21',\n",
       " 'https://qwer.gg/ko/matches/16914/dk-vs-btc-2018-09-20',\n",
       " 'https://qwer.gg/ko/matches/16915/bbq-vs-dk-2018-09-18',\n",
       " 'https://qwer.gg/ko/matches/16916/mvp-vs-btc-2018-09-18']"
      ]
     },
     "execution_count": 5,
     "metadata": {},
     "output_type": "execute_result"
    }
   ],
   "source": [
    "import pandas as pd\n",
    "url = pd.read_csv('LCK_2019_Spring_Promotion_match_links.txt', header=None)\n",
    "\n",
    "url_list = [i for i in url.iloc[:,0]]\n",
    "url_list"
   ]
  },
  {
   "cell_type": "code",
   "execution_count": 6,
   "metadata": {},
   "outputs": [
    {
     "data": {
      "text/plain": [
       "'https://qwer.gg/ko/matches/16912/mvp-vs-btc-2018-09-22'"
      ]
     },
     "execution_count": 6,
     "metadata": {},
     "output_type": "execute_result"
    }
   ],
   "source": [
    "url_list[0]"
   ]
  },
  {
   "cell_type": "code",
   "execution_count": 57,
   "metadata": {},
   "outputs": [],
   "source": [
    "#url 내에서 상세 정보 크롤링 해보기\n",
    "options = webdriver.ChromeOptions()\n",
    "#options.headless = True\n",
    "options.add_argument('window_size=1920x1080')\n",
    "options.add_argument('user-agent=Mozilla/5.0 (Windows NT 10.0; Win64; x64) AppleWebKit/537.36 (KHTML, like Gecko) Chrome/103.0.0.0 Safari/537.36')\n",
    "browser = webdriver.Chrome(options=options)\n",
    "\n",
    "url = url_list[0]\n",
    "browser.get(url)"
   ]
  },
  {
   "cell_type": "code",
   "execution_count": 45,
   "metadata": {},
   "outputs": [
    {
     "data": {
      "text/plain": [
       "'2018-09-22'"
      ]
     },
     "execution_count": 45,
     "metadata": {},
     "output_type": "execute_result"
    }
   ],
   "source": [
    "#경기일\n",
    "date = url[-10:]\n",
    "date"
   ]
  },
  {
   "cell_type": "code",
   "execution_count": 8,
   "metadata": {},
   "outputs": [
    {
     "data": {
      "text/plain": [
       "('MVP', 'BtC')"
      ]
     },
     "execution_count": 8,
     "metadata": {},
     "output_type": "execute_result"
    }
   ],
   "source": [
    "#팀명\n",
    "team1_name = browser.find_element(By.XPATH, '//*[@id=\"matchHistoryWrapper\"]/div[1]/div[1]/div[2]/div[1]/strong').get_attribute('innerText')\n",
    "team2_name = browser.find_element(By.XPATH, '//*[@id=\"matchHistoryWrapper\"]/div[1]/div[1]/div[2]/div[3]/strong').get_attribute('innerText')\n",
    "\n",
    "team1_name, team2_name"
   ]
  },
  {
   "cell_type": "code",
   "execution_count": 9,
   "metadata": {},
   "outputs": [],
   "source": [
    "#세트 선택\n",
    "set_list = browser.find_elements(By.CLASS_NAME, 'shrink-0')  \n",
    "\n",
    "set_1 = set_list[0]\n",
    "set_1.click()"
   ]
  },
  {
   "cell_type": "code",
   "execution_count": 10,
   "metadata": {},
   "outputs": [
    {
     "data": {
      "text/plain": [
       "['https://www.youtube.com/embed/Ro3fI5U0fO8',\n",
       " 'https://www.youtube.com/embed/gTI7vo_a8DI',\n",
       " 'https://www.youtube.com/embed/O7WC58JYISQ',\n",
       " 'https://www.youtube.com/embed/DJjf0vdpA9c',\n",
       " 'https://www.youtube.com/embed/0Lc-1SvSPI4',\n",
       " 'https://www.youtube.com/embed/pNrgoPvpQuQ']"
      ]
     },
     "execution_count": 10,
     "metadata": {},
     "output_type": "execute_result"
    }
   ],
   "source": [
    "#경기별 영상 url\n",
    "videos = browser.find_element(By.XPATH, '//*[@id=\"__next\"]/div[3]/div/div/div[1]/div[2]/div/div')\n",
    "video_urls = videos.find_elements(By.TAG_NAME, 'figure')\n",
    "\n",
    "video_url_list = []\n",
    "for i in video_urls:\n",
    "    i.click()\n",
    "    video_url_list.append(browser.find_element(By.TAG_NAME, 'iframe').get_attribute('src'))\n",
    "    \n",
    "video_url_list"
   ]
  },
  {
   "cell_type": "code",
   "execution_count": 11,
   "metadata": {},
   "outputs": [
    {
     "data": {
      "text/plain": [
       "(['DrMundo', 'Irelia', 'Shen', 'Varus', 'Aatrox'],\n",
       " ['Urgot', 'Sion', 'Gragas', 'Gnar', 'Ornn'])"
      ]
     },
     "execution_count": 11,
     "metadata": {},
     "output_type": "execute_result"
    }
   ],
   "source": [
    "#밴\n",
    "banned = browser.find_elements(By.TAG_NAME, 'a')\n",
    "\n",
    "team1_banned = banned[25:30]\n",
    "team2_banned = banned[35:40]\n",
    "\n",
    "team1_banned = [banned_champ.find_elements(By.TAG_NAME, 'img') for banned_champ in team1_banned]\n",
    "team2_banned = [banned_champ.find_elements(By.TAG_NAME, 'img') for banned_champ in team2_banned]\n",
    "\n",
    "team1_banned = [banned_champ[0].get_attribute('src') for banned_champ in team1_banned]\n",
    "team2_banned = [banned_champ[0].get_attribute('src') for banned_champ in team2_banned]\n",
    "\n",
    "team1_banned = [str(banned_champ.split(sep='.')[-2]).split(sep='/')[-1] for banned_champ in team1_banned]\n",
    "team2_banned = [str(banned_champ.split(sep='.')[-2]).split(sep='/')[-1] for banned_champ in team2_banned]\n",
    "\n",
    "team1_banned, team2_banned"
   ]
  },
  {
   "cell_type": "code",
   "execution_count": 12,
   "metadata": {},
   "outputs": [
    {
     "name": "stdout",
     "output_type": "stream",
     "text": [
      "['2', '0', '1', '0', '0', '0']\n",
      "['10', '2', '0', '5', '1', '1']\n"
     ]
    }
   ],
   "source": [
    "#오브젝트(타워, 억제기, 전령, 드래곤, 장로드래곤, 바론)\n",
    "team1_object = browser.find_element(By.XPATH, '//*[@id=\"matchHistoryWrapper\"]/div[1]/div[2]/div[1]/div[2]')\n",
    "team1_object = team1_object.text.split(sep='\\n')[1:]\n",
    "print(team1_object)\n",
    "\n",
    "team2_object = browser.find_element(By.XPATH, '//*[@id=\"matchHistoryWrapper\"]/div[1]/div[2]/div[2]/div[2]')\n",
    "team2_object = team2_object.text.split(sep='\\n')[1:]\n",
    "print(team2_object)   "
   ]
  },
  {
   "cell_type": "code",
   "execution_count": 13,
   "metadata": {},
   "outputs": [
    {
     "data": {
      "text/plain": [
       "('62,214', '75,680')"
      ]
     },
     "execution_count": 13,
     "metadata": {},
     "output_type": "execute_result"
    }
   ],
   "source": [
    "#획득 골드\n",
    "team1_gold = browser.find_element(By.XPATH, '//*[@id=\"matchHistoryWrapper\"]/div[1]/div[3]/div[2]/span[2]').get_attribute('innerText')\n",
    "team2_gold = browser.find_element(By.XPATH, '//*[@id=\"matchHistoryWrapper\"]/div[1]/div[3]/div[2]/span[3]').get_attribute('innerText')\n",
    "\n",
    "team1_gold, team2_gold"
   ]
  },
  {
   "cell_type": "code",
   "execution_count": 66,
   "metadata": {},
   "outputs": [
    {
     "data": {
      "text/plain": [
       "('6 / 12 / 13', '12 / 6 / 31')"
      ]
     },
     "execution_count": 66,
     "metadata": {},
     "output_type": "execute_result"
    }
   ],
   "source": [
    "#KDA(kill/death/assist)\n",
    "team1_kda = browser.find_element(By.XPATH, '//*[@id=\"matchHistoryWrapper\"]/div[1]/div[3]/div[1]/span[2]').get_attribute('innerText')\n",
    "team2_kda = browser.find_element(By.XPATH, '//*[@id=\"matchHistoryWrapper\"]/div[1]/div[3]/div[3]/span[2]').get_attribute('innerText')\n",
    "\n",
    "team1_kda, team2_kda"
   ]
  },
  {
   "cell_type": "code",
   "execution_count": 18,
   "metadata": {},
   "outputs": [
    {
     "data": {
      "text/plain": [
       "('Blue Side', 'Red Side')"
      ]
     },
     "execution_count": 18,
     "metadata": {},
     "output_type": "execute_result"
    }
   ],
   "source": [
    "#진영(blue/red)\n",
    "team1_territory = browser.find_element(By.XPATH, '//*[@id=\"headlessui-tabs-panel-18\"]/ul/li[1]/div[1]/div[2]/div/span').get_attribute('innerText')\n",
    "team2_territory = browser.find_element(By.XPATH, '//*[@id=\"headlessui-tabs-panel-18\"]/ul/li[2]/div[1]/div[2]/div/span').get_attribute('innerText')\n",
    "\n",
    "team1_territory, team2_territory"
   ]
  },
  {
   "cell_type": "code",
   "execution_count": 65,
   "metadata": {},
   "outputs": [
    {
     "data": {
      "text/plain": [
       "('Defeat', 'Victory')"
      ]
     },
     "execution_count": 65,
     "metadata": {},
     "output_type": "execute_result"
    }
   ],
   "source": [
    "#승패 여부(victofy/defeated)\n",
    "team1_v_d = browser.find_element(By.XPATH, '//*[@id=\"headlessui-tabs-panel-18\"]/ul/li[1]/div[1]/div[1]/strong').get_attribute('innerText')\n",
    "team2_v_d = browser.find_element(By.XPATH, '//*[@id=\"headlessui-tabs-panel-18\"]/ul/li[2]/div[1]/div[1]/strong').get_attribute('innerText')\n",
    "\n",
    "team1_v_d, team2_v_d"
   ]
  },
  {
   "cell_type": "code",
   "execution_count": 64,
   "metadata": {},
   "outputs": [
    {
     "data": {
      "text/html": [
       "<div>\n",
       "<style scoped>\n",
       "    .dataframe tbody tr th:only-of-type {\n",
       "        vertical-align: middle;\n",
       "    }\n",
       "\n",
       "    .dataframe tbody tr th {\n",
       "        vertical-align: top;\n",
       "    }\n",
       "\n",
       "    .dataframe thead th {\n",
       "        text-align: right;\n",
       "    }\n",
       "</style>\n",
       "<table border=\"1\" class=\"dataframe\">\n",
       "  <thead>\n",
       "    <tr style=\"text-align: right;\">\n",
       "      <th></th>\n",
       "      <th>champion</th>\n",
       "      <th>level</th>\n",
       "      <th>summoner_skill</th>\n",
       "      <th>rune</th>\n",
       "      <th>player_name</th>\n",
       "      <th>k</th>\n",
       "      <th>d</th>\n",
       "      <th>a</th>\n",
       "      <th>damage</th>\n",
       "      <th>dpm</th>\n",
       "      <th>dtpm</th>\n",
       "      <th>sight</th>\n",
       "      <th>cs</th>\n",
       "      <th>items</th>\n",
       "    </tr>\n",
       "  </thead>\n",
       "  <tbody>\n",
       "    <tr>\n",
       "      <th>0</th>\n",
       "      <td>Maokai</td>\n",
       "      <td>17</td>\n",
       "      <td>[점멸, 순간이동]</td>\n",
       "      <td>[여진, 마법]</td>\n",
       "      <td>MVP ADD</td>\n",
       "      <td>1</td>\n",
       "      <td>6</td>\n",
       "      <td>3</td>\n",
       "      <td>15,370</td>\n",
       "      <td>386</td>\n",
       "      <td>907</td>\n",
       "      <td>9</td>\n",
       "      <td>289</td>\n",
       "      <td>[헤르메스의 발걸음, 수정 팔 보호구, 점화석, 정령의 형상, 가고일 돌갑옷, 저녁...</td>\n",
       "    </tr>\n",
       "    <tr>\n",
       "      <th>1</th>\n",
       "      <td>Sejuani</td>\n",
       "      <td>16</td>\n",
       "      <td>[점멸, 강타]</td>\n",
       "      <td>[여진, 정밀]</td>\n",
       "      <td>MVP Beyond</td>\n",
       "      <td>1</td>\n",
       "      <td>2</td>\n",
       "      <td>2</td>\n",
       "      <td>5,604</td>\n",
       "      <td>141</td>\n",
       "      <td>513</td>\n",
       "      <td>8</td>\n",
       "      <td>163</td>\n",
       "      <td>[망가진 초시계, 헤르메스의 발걸음, 기사의 맹세, 예언자의 렌즈]</td>\n",
       "    </tr>\n",
       "    <tr>\n",
       "      <th>2</th>\n",
       "      <td>Syndra</td>\n",
       "      <td>17</td>\n",
       "      <td>[방어막, 점멸]</td>\n",
       "      <td>[감전, 영감]</td>\n",
       "      <td>MVP Ian</td>\n",
       "      <td>1</td>\n",
       "      <td>3</td>\n",
       "      <td>2</td>\n",
       "      <td>12,167</td>\n",
       "      <td>305</td>\n",
       "      <td>225</td>\n",
       "      <td>11</td>\n",
       "      <td>360</td>\n",
       "      <td>[방출의 마법봉, 증폭의 고서, 마법사의 신발, 밴시의 장막, 존야의 모래시계, 망...</td>\n",
       "    </tr>\n",
       "    <tr>\n",
       "      <th>3</th>\n",
       "      <td>Kaisa</td>\n",
       "      <td>17</td>\n",
       "      <td>[점멸, 순간이동]</td>\n",
       "      <td>[기민한 발놀림, 마법]</td>\n",
       "      <td>MVP Pilot</td>\n",
       "      <td>3</td>\n",
       "      <td>0</td>\n",
       "      <td>1</td>\n",
       "      <td>22,813</td>\n",
       "      <td>573</td>\n",
       "      <td>341</td>\n",
       "      <td>1</td>\n",
       "      <td>441</td>\n",
       "      <td>[광전사의 군화, 수은 장식띠, 구인수의 격노검, 루난의 허리케인, 무한의 대검, ...</td>\n",
       "    </tr>\n",
       "    <tr>\n",
       "      <th>4</th>\n",
       "      <td>Braum</td>\n",
       "      <td>14</td>\n",
       "      <td>[점화, 점멸]</td>\n",
       "      <td>[봉인 풀린 주문서, 결의]</td>\n",
       "      <td>MVP poge</td>\n",
       "      <td>0</td>\n",
       "      <td>1</td>\n",
       "      <td>5</td>\n",
       "      <td>4,243</td>\n",
       "      <td>107</td>\n",
       "      <td>387</td>\n",
       "      <td>17</td>\n",
       "      <td>88</td>\n",
       "      <td>[마법무효화의 망토, 헤르메스의 발걸음, 기사의 맹세, 지크의 융합, 예언자의 렌즈]</td>\n",
       "    </tr>\n",
       "    <tr>\n",
       "      <th>5</th>\n",
       "      <td>Chogath</td>\n",
       "      <td>18</td>\n",
       "      <td>[점멸, 순간이동]</td>\n",
       "      <td>[착취의 손아귀, 정밀]</td>\n",
       "      <td>BtC SoaR</td>\n",
       "      <td>3</td>\n",
       "      <td>0</td>\n",
       "      <td>7</td>\n",
       "      <td>14,817</td>\n",
       "      <td>372</td>\n",
       "      <td>819</td>\n",
       "      <td>9</td>\n",
       "      <td>364</td>\n",
       "      <td>[파수꾼의 갑옷, 워모그의 갑옷, 헤르메스의 발걸음, 가고일 돌갑옷, 저녁갑주, 투...</td>\n",
       "    </tr>\n",
       "    <tr>\n",
       "      <th>6</th>\n",
       "      <td>Olaf</td>\n",
       "      <td>18</td>\n",
       "      <td>[점멸, 강타]</td>\n",
       "      <td>[포식자, 마법]</td>\n",
       "      <td>BtC OnFleek</td>\n",
       "      <td>1</td>\n",
       "      <td>2</td>\n",
       "      <td>5</td>\n",
       "      <td>10,963</td>\n",
       "      <td>275</td>\n",
       "      <td>793</td>\n",
       "      <td>9</td>\n",
       "      <td>230</td>\n",
       "      <td>[헤르메스의 발걸음, 칠흑의 양날 도끼, 수호 천사, 예언자의 렌즈]</td>\n",
       "    </tr>\n",
       "    <tr>\n",
       "      <th>7</th>\n",
       "      <td>Fizz</td>\n",
       "      <td>18</td>\n",
       "      <td>[점화, 점멸]</td>\n",
       "      <td>[감전, 영감]</td>\n",
       "      <td>BtC Dove</td>\n",
       "      <td>5</td>\n",
       "      <td>0</td>\n",
       "      <td>5</td>\n",
       "      <td>15,679</td>\n",
       "      <td>394</td>\n",
       "      <td>321</td>\n",
       "      <td>12</td>\n",
       "      <td>357</td>\n",
       "      <td>[라바돈의 죽음모자, 망가진 초시계, 헤르메스의 발걸음, 공허의 지팡이, 마법공학 ...</td>\n",
       "    </tr>\n",
       "    <tr>\n",
       "      <th>8</th>\n",
       "      <td>Xayah</td>\n",
       "      <td>18</td>\n",
       "      <td>[점멸, 순간이동]</td>\n",
       "      <td>[치명적 속도, 마법]</td>\n",
       "      <td>BtC Hollow</td>\n",
       "      <td>3</td>\n",
       "      <td>2</td>\n",
       "      <td>7</td>\n",
       "      <td>19,767</td>\n",
       "      <td>496</td>\n",
       "      <td>220</td>\n",
       "      <td>4</td>\n",
       "      <td>450</td>\n",
       "      <td>[광전사의 군화, 필멸자의 운명, 루난의 허리케인, 헤르메스의 시미터, 무한의 대검...</td>\n",
       "    </tr>\n",
       "    <tr>\n",
       "      <th>9</th>\n",
       "      <td>Morgana</td>\n",
       "      <td>15</td>\n",
       "      <td>[점화, 점멸]</td>\n",
       "      <td>[콩콩이 소환, 영감]</td>\n",
       "      <td>BtC Joker</td>\n",
       "      <td>0</td>\n",
       "      <td>3</td>\n",
       "      <td>7</td>\n",
       "      <td>8,214</td>\n",
       "      <td>206</td>\n",
       "      <td>280</td>\n",
       "      <td>28</td>\n",
       "      <td>32</td>\n",
       "      <td>[망령의 두건, 기동력의 장화, 제어 와드, 점화석, 강철의 솔라리 펜던트, 예언자...</td>\n",
       "    </tr>\n",
       "  </tbody>\n",
       "</table>\n",
       "</div>"
      ],
      "text/plain": [
       "  champion level summoner_skill             rune  player_name  k  d  a  \\\n",
       "0   Maokai    17     [점멸, 순간이동]         [여진, 마법]      MVP ADD  1  6  3   \n",
       "1  Sejuani    16       [점멸, 강타]         [여진, 정밀]   MVP Beyond  1  2  2   \n",
       "2   Syndra    17      [방어막, 점멸]         [감전, 영감]      MVP Ian  1  3  2   \n",
       "3    Kaisa    17     [점멸, 순간이동]    [기민한 발놀림, 마법]    MVP Pilot  3  0  1   \n",
       "4    Braum    14       [점화, 점멸]  [봉인 풀린 주문서, 결의]     MVP poge  0  1  5   \n",
       "5  Chogath    18     [점멸, 순간이동]    [착취의 손아귀, 정밀]     BtC SoaR  3  0  7   \n",
       "6     Olaf    18       [점멸, 강타]        [포식자, 마법]  BtC OnFleek  1  2  5   \n",
       "7     Fizz    18       [점화, 점멸]         [감전, 영감]     BtC Dove  5  0  5   \n",
       "8    Xayah    18     [점멸, 순간이동]     [치명적 속도, 마법]   BtC Hollow  3  2  7   \n",
       "9  Morgana    15       [점화, 점멸]     [콩콩이 소환, 영감]    BtC Joker  0  3  7   \n",
       "\n",
       "   damage  dpm dtpm sight   cs  \\\n",
       "0  15,370  386  907     9  289   \n",
       "1   5,604  141  513     8  163   \n",
       "2  12,167  305  225    11  360   \n",
       "3  22,813  573  341     1  441   \n",
       "4   4,243  107  387    17   88   \n",
       "5  14,817  372  819     9  364   \n",
       "6  10,963  275  793     9  230   \n",
       "7  15,679  394  321    12  357   \n",
       "8  19,767  496  220     4  450   \n",
       "9   8,214  206  280    28   32   \n",
       "\n",
       "                                               items  \n",
       "0  [헤르메스의 발걸음, 수정 팔 보호구, 점화석, 정령의 형상, 가고일 돌갑옷, 저녁...  \n",
       "1              [망가진 초시계, 헤르메스의 발걸음, 기사의 맹세, 예언자의 렌즈]  \n",
       "2  [방출의 마법봉, 증폭의 고서, 마법사의 신발, 밴시의 장막, 존야의 모래시계, 망...  \n",
       "3  [광전사의 군화, 수은 장식띠, 구인수의 격노검, 루난의 허리케인, 무한의 대검, ...  \n",
       "4    [마법무효화의 망토, 헤르메스의 발걸음, 기사의 맹세, 지크의 융합, 예언자의 렌즈]  \n",
       "5  [파수꾼의 갑옷, 워모그의 갑옷, 헤르메스의 발걸음, 가고일 돌갑옷, 저녁갑주, 투...  \n",
       "6             [헤르메스의 발걸음, 칠흑의 양날 도끼, 수호 천사, 예언자의 렌즈]  \n",
       "7  [라바돈의 죽음모자, 망가진 초시계, 헤르메스의 발걸음, 공허의 지팡이, 마법공학 ...  \n",
       "8  [광전사의 군화, 필멸자의 운명, 루난의 허리케인, 헤르메스의 시미터, 무한의 대검...  \n",
       "9  [망령의 두건, 기동력의 장화, 제어 와드, 점화석, 강철의 솔라리 펜던트, 예언자...  "
      ]
     },
     "execution_count": 64,
     "metadata": {},
     "output_type": "execute_result"
    }
   ],
   "source": [
    "#선수별 상세 데이터\n",
    "data = browser.find_element(By.CLASS_NAME, 'py-4').find_elements(By.TAG_NAME, 'tbody')\n",
    "player_data = [player_data.find_elements(By.TAG_NAME, 'tr') for player_data in data]   #(2 x 5)\n",
    "player_data_list = [x for x in player_data[0]] + [x for x in player_data[1]]           #(1 x 10)\n",
    "\n",
    "final_data = [] \n",
    "\n",
    "for i in player_data_list:\n",
    "    player_data = i.find_elements(By.TAG_NAME, 'td')[0]\n",
    "    champion = str(player_data.find_element(By.TAG_NAME, 'img').get_attribute('src')).split('.')[-2].split('/')[-1]\n",
    "    summoner_skill = [i.find_elements(By.TAG_NAME, 'img')[1].get_attribute('title'), #.split(sep='.')[-2].split('/')[-1]\n",
    "              str(i.find_elements(By.TAG_NAME, 'img')[2].get_attribute('title'))] #.split(sep='.')[-2].split('/')[-1]]\n",
    "    rune = [str(i.find_elements(By.TAG_NAME, 'img')[3].get_attribute('alt')), #.split(sep='.')[-2].split('/')[-1]\n",
    "            str(i.find_elements(By.TAG_NAME, 'img')[4].get_attribute('alt'))] #.split(sep='.')[-2].split('/')[-1]\n",
    "    \n",
    "    player_data = i.get_attribute('innerText').split(sep='\\n\\t\\n')\n",
    "    level = player_data[0]\n",
    "    player_name = player_data[1]\n",
    "    \n",
    "    kda = player_data[2].split('\\n')[0]\n",
    "    k, d, a = kda.split(' / ')\n",
    "    \n",
    "    damage = player_data[3]\n",
    "    dpm = player_data[4]\n",
    "    dtpm = player_data[5]\n",
    "    sight = player_data[6].split(sep='\\n')[0]\n",
    "    ward_install = player_data[6].split(sep='\\n')[1].split(sep=' / ')[0]\n",
    "    ward_erase = player_data[6].split(sep='\\n')[1].split(sep=' / ')[1]\n",
    "    cs = player_data[7].split(sep='\\n')[0]\n",
    "    \n",
    "    items = i.find_elements(By.TAG_NAME, 'td')[-1]\n",
    "    items = items.find_elements(By.TAG_NAME, 'img')\n",
    "    items = [item.get_attribute('alt') for item in items]\n",
    "    \n",
    "    final_data.append([champion, level, summoner_skill, rune, player_name, k, d, a, damage, dpm, dtpm, sight, cs, items])\n",
    "    \n",
    "df = pd.DataFrame(final_data, \n",
    "                  columns=['champion', 'level', 'summoner_skill', 'rune', 'player_name', \n",
    "                           'k', 'd' , 'a', 'damage', 'dpm', 'dtpm', 'sight', 'cs', 'items'])\n",
    "\n",
    "df"
   ]
  },
  {
   "cell_type": "code",
   "execution_count": null,
   "metadata": {},
   "outputs": [],
   "source": [
    "#위 과정을 함수로 작성\n"
   ]
  }
 ],
 "metadata": {
  "kernelspec": {
   "display_name": "Python 3.9.13 64-bit (windows store)",
   "language": "python",
   "name": "python3"
  },
  "language_info": {
   "codemirror_mode": {
    "name": "ipython",
    "version": 3
   },
   "file_extension": ".py",
   "mimetype": "text/x-python",
   "name": "python",
   "nbconvert_exporter": "python",
   "pygments_lexer": "ipython3",
   "version": "3.9.13"
  },
  "orig_nbformat": 4,
  "vscode": {
   "interpreter": {
    "hash": "6fa4a44f766495ce506072b9c8e55063615baddbc9bec71ca3a3504c00a47a80"
   }
  }
 },
 "nbformat": 4,
 "nbformat_minor": 2
}
